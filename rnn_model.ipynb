{
 "cells": [
  {
   "cell_type": "code",
   "execution_count": 1,
   "outputs": [
    {
     "ename": "ModuleNotFoundError",
     "evalue": "No module named 'torch'",
     "output_type": "error",
     "traceback": [
      "\u001B[1;31m---------------------------------------------------------------------------\u001B[0m",
      "\u001B[1;31mModuleNotFoundError\u001B[0m                       Traceback (most recent call last)",
      "Cell \u001B[1;32mIn[1], line 2\u001B[0m\n\u001B[0;32m      1\u001B[0m \u001B[38;5;28;01mimport\u001B[39;00m \u001B[38;5;21;01mpandas\u001B[39;00m \u001B[38;5;28;01mas\u001B[39;00m \u001B[38;5;21;01mpd\u001B[39;00m\n\u001B[1;32m----> 2\u001B[0m \u001B[38;5;28;01mimport\u001B[39;00m \u001B[38;5;21;01mtorch\u001B[39;00m\n\u001B[0;32m      3\u001B[0m \u001B[38;5;28;01mimport\u001B[39;00m \u001B[38;5;21;01mrandom\u001B[39;00m\n\u001B[0;32m      4\u001B[0m \u001B[38;5;28;01mimport\u001B[39;00m \u001B[38;5;21;01mtorchaudio\u001B[39;00m\n",
      "\u001B[1;31mModuleNotFoundError\u001B[0m: No module named 'torch'"
     ]
    }
   ],
   "source": [
    "import pandas as pd\n",
    "import torch\n",
    "import random\n",
    "import torchaudio\n",
    "import fluidsynth\n",
    "import glob\n",
    "import pathlib\n",
    "import numpy as np\n",
    "import tensorflow as tf\n",
    "from IPython import display\n",
    "import pretty_midi\n",
    "import sys"
   ],
   "metadata": {
    "collapsed": false,
    "ExecuteTime": {
     "end_time": "2023-11-11T15:37:30.681512500Z",
     "start_time": "2023-11-11T15:37:30.097193500Z"
    }
   },
   "id": "initial_id"
  },
  {
   "cell_type": "code",
   "execution_count": 3,
   "outputs": [
    {
     "name": "stdout",
     "output_type": "stream",
     "text": [
      "C:\\Users\\NITRO\\anaconda3\\python.exe\n"
     ]
    }
   ],
   "source": [
    "print(sys.executable)"
   ],
   "metadata": {
    "collapsed": false,
    "ExecuteTime": {
     "end_time": "2023-11-11T15:37:46.418769500Z",
     "start_time": "2023-11-11T15:37:46.418259Z"
    }
   },
   "id": "5aafc115be841fb"
  },
  {
   "cell_type": "code",
   "execution_count": 10,
   "outputs": [],
   "source": [
    "seed = 42\n",
    "tf.random.set_seed(seed)\n",
    "np.random.seed(seed)\n",
    "\n",
    "_SAMPLING_RATE = 16000"
   ],
   "metadata": {
    "collapsed": false,
    "ExecuteTime": {
     "end_time": "2023-11-10T12:55:49.241804600Z",
     "start_time": "2023-11-10T12:55:49.228092900Z"
    }
   },
   "id": "b96a4732a8a733ee"
  },
  {
   "cell_type": "code",
   "execution_count": 11,
   "outputs": [
    {
     "data": {
      "text/plain": "   canonical_composer                canonical_title       split  year  \\\n0          Alban Berg                   Sonata Op. 1       train  2018   \n1          Alban Berg                   Sonata Op. 1       train  2008   \n2          Alban Berg                   Sonata Op. 1       train  2017   \n3  Alexander Scriabin  24 Preludes Op. 11, No. 13-24       train  2004   \n4  Alexander Scriabin               3 Etudes, Op. 65  validation  2006   \n\n                                       midi_filename  \\\n0  2018/MIDI-Unprocessed_Chamber3_MID--AUDIO_10_R...   \n1  2008/MIDI-Unprocessed_03_R2_2008_01-03_ORIG_MI...   \n2  2017/MIDI-Unprocessed_066_PIANO066_MID--AUDIO-...   \n3  2004/MIDI-Unprocessed_XP_21_R1_2004_01_ORIG_MI...   \n4  2006/MIDI-Unprocessed_17_R1_2006_01-06_ORIG_MI...   \n\n                                      audio_filename    duration  \n0  2018/MIDI-Unprocessed_Chamber3_MID--AUDIO_10_R...  698.661160  \n1  2008/MIDI-Unprocessed_03_R2_2008_01-03_ORIG_MI...  759.518471  \n2  2017/MIDI-Unprocessed_066_PIANO066_MID--AUDIO-...  464.649433  \n3  2004/MIDI-Unprocessed_XP_21_R1_2004_01_ORIG_MI...  872.640588  \n4  2006/MIDI-Unprocessed_17_R1_2006_01-06_ORIG_MI...  397.857508  ",
      "text/html": "<div>\n<style scoped>\n    .dataframe tbody tr th:only-of-type {\n        vertical-align: middle;\n    }\n\n    .dataframe tbody tr th {\n        vertical-align: top;\n    }\n\n    .dataframe thead th {\n        text-align: right;\n    }\n</style>\n<table border=\"1\" class=\"dataframe\">\n  <thead>\n    <tr style=\"text-align: right;\">\n      <th></th>\n      <th>canonical_composer</th>\n      <th>canonical_title</th>\n      <th>split</th>\n      <th>year</th>\n      <th>midi_filename</th>\n      <th>audio_filename</th>\n      <th>duration</th>\n    </tr>\n  </thead>\n  <tbody>\n    <tr>\n      <th>0</th>\n      <td>Alban Berg</td>\n      <td>Sonata Op. 1</td>\n      <td>train</td>\n      <td>2018</td>\n      <td>2018/MIDI-Unprocessed_Chamber3_MID--AUDIO_10_R...</td>\n      <td>2018/MIDI-Unprocessed_Chamber3_MID--AUDIO_10_R...</td>\n      <td>698.661160</td>\n    </tr>\n    <tr>\n      <th>1</th>\n      <td>Alban Berg</td>\n      <td>Sonata Op. 1</td>\n      <td>train</td>\n      <td>2008</td>\n      <td>2008/MIDI-Unprocessed_03_R2_2008_01-03_ORIG_MI...</td>\n      <td>2008/MIDI-Unprocessed_03_R2_2008_01-03_ORIG_MI...</td>\n      <td>759.518471</td>\n    </tr>\n    <tr>\n      <th>2</th>\n      <td>Alban Berg</td>\n      <td>Sonata Op. 1</td>\n      <td>train</td>\n      <td>2017</td>\n      <td>2017/MIDI-Unprocessed_066_PIANO066_MID--AUDIO-...</td>\n      <td>2017/MIDI-Unprocessed_066_PIANO066_MID--AUDIO-...</td>\n      <td>464.649433</td>\n    </tr>\n    <tr>\n      <th>3</th>\n      <td>Alexander Scriabin</td>\n      <td>24 Preludes Op. 11, No. 13-24</td>\n      <td>train</td>\n      <td>2004</td>\n      <td>2004/MIDI-Unprocessed_XP_21_R1_2004_01_ORIG_MI...</td>\n      <td>2004/MIDI-Unprocessed_XP_21_R1_2004_01_ORIG_MI...</td>\n      <td>872.640588</td>\n    </tr>\n    <tr>\n      <th>4</th>\n      <td>Alexander Scriabin</td>\n      <td>3 Etudes, Op. 65</td>\n      <td>validation</td>\n      <td>2006</td>\n      <td>2006/MIDI-Unprocessed_17_R1_2006_01-06_ORIG_MI...</td>\n      <td>2006/MIDI-Unprocessed_17_R1_2006_01-06_ORIG_MI...</td>\n      <td>397.857508</td>\n    </tr>\n  </tbody>\n</table>\n</div>"
     },
     "execution_count": 11,
     "metadata": {},
     "output_type": "execute_result"
    }
   ],
   "source": [
    "data_dir = pathlib.Path('data/maestro-v3.0.0')\n",
    "df = pd.read_csv('data/maestro-v3.0.0/maestro-v3.0.0.csv')\n",
    "tf.keras.utils.get_file('maestro-v3.0.0-midi.zip',\n",
    "        origin='https://storage.googleapis.com/magentadata/datasets/maestro/v3.0.0/maestro-v3.0.0-midi.zip',\n",
    "        extract=True,\n",
    "        cache_dir='.', cache_subdir='data',)\n",
    "df.head()\n"
   ],
   "metadata": {
    "collapsed": false,
    "ExecuteTime": {
     "end_time": "2023-11-10T12:55:51.206935100Z",
     "start_time": "2023-11-10T12:55:50.157743500Z"
    }
   },
   "id": "99c129bf5a21e5a4"
  },
  {
   "cell_type": "code",
   "execution_count": null,
   "outputs": [],
   "source": [],
   "metadata": {
    "collapsed": false
   },
   "id": "23be528b13e30516"
  }
 ],
 "metadata": {
  "kernelspec": {
   "display_name": "Python 3",
   "language": "python",
   "name": "python3"
  },
  "language_info": {
   "codemirror_mode": {
    "name": "ipython",
    "version": 2
   },
   "file_extension": ".py",
   "mimetype": "text/x-python",
   "name": "python",
   "nbconvert_exporter": "python",
   "pygments_lexer": "ipython2",
   "version": "2.7.6"
  }
 },
 "nbformat": 4,
 "nbformat_minor": 5
}
