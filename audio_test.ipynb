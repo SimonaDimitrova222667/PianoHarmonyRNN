{
 "cells": [
  {
   "cell_type": "code",
   "execution_count": 7,
   "outputs": [],
   "source": [
    "import tensorflow as tf\n",
    "from tensorflow.keras.layers import Input, LSTM, Dense\n",
    "from tensorflow.keras.models import Model\n",
    "from tensorflow.keras.losses import SparseCategoricalCrossentropy\n",
    "from tensorflow.keras.optimizers import Adam\n",
    "\n",
    "from typing import Dict, List, Optional, Sequence, Tuple\n",
    "import collections\n",
    "import datetime\n",
    "import glob\n",
    "import numpy as np\n",
    "import pathlib\n",
    "import pandas as pd\n",
    "import pretty_midi\n",
    "import sys\n",
    "\n",
    "from IPython import display\n",
    "from matplotlib import pyplot as plt\n",
    "import seaborn as sns"
   ],
   "metadata": {
    "collapsed": false,
    "ExecuteTime": {
     "end_time": "2023-11-11T16:59:54.540111600Z",
     "start_time": "2023-11-11T16:59:54.538494300Z"
    }
   },
   "id": "71412aa951cfcf28"
  },
  {
   "cell_type": "code",
   "execution_count": 9,
   "outputs": [
    {
     "name": "stdout",
     "output_type": "stream",
     "text": [
      "C:\\Users\\NITRO\\anaconda3\\python.exe\n"
     ]
    }
   ],
   "source": [
    "print(sys.executable)"
   ],
   "metadata": {
    "collapsed": false,
    "ExecuteTime": {
     "end_time": "2023-11-11T17:00:21.369858800Z",
     "start_time": "2023-11-11T17:00:21.361687Z"
    }
   },
   "id": "28b2de803ec44c82"
  },
  {
   "cell_type": "code",
   "execution_count": 23,
   "outputs": [
    {
     "name": "stdout",
     "output_type": "stream",
     "text": [
      "Number of files: 1282\n"
     ]
    }
   ],
   "source": [
    "filenames = glob.glob(str('data/maestro-v2.0.0/**/*.mid*'))\n",
    "print('Number of files:', len(filenames))\n"
   ],
   "metadata": {
    "collapsed": false,
    "ExecuteTime": {
     "end_time": "2023-11-11T17:06:12.119862200Z",
     "start_time": "2023-11-11T17:06:12.071363500Z"
    }
   },
   "id": "a3016a06f8c38670"
  },
  {
   "cell_type": "code",
   "execution_count": 24,
   "outputs": [
    {
     "name": "stdout",
     "output_type": "stream",
     "text": [
      "data/maestro-v2.0.0\\2004\\MIDI-Unprocessed_SMF_02_R1_2004_01-05_ORIG_MID--AUDIO_02_R1_2004_06_Track06_wav.midi\n",
      "Number of instruments: 1\n",
      "Instrument name: Acoustic Grand Piano\n",
      "0: pitch=31, note_name=G1, duration=0.0656\n",
      "1: pitch=43, note_name=G2, duration=0.0792\n",
      "2: pitch=44, note_name=G#2, duration=0.0740\n",
      "3: pitch=32, note_name=G#1, duration=0.0729\n",
      "4: pitch=34, note_name=A#1, duration=0.0708\n",
      "5: pitch=46, note_name=A#2, duration=0.0948\n",
      "6: pitch=48, note_name=C3, duration=0.6260\n",
      "7: pitch=36, note_name=C2, duration=0.6542\n",
      "8: pitch=53, note_name=F3, duration=1.7667\n",
      "9: pitch=56, note_name=G#3, duration=1.7688\n"
     ]
    }
   ],
   "source": [
    "sample_file = filenames[1]\n",
    "print(sample_file)\n",
    "\n",
    "pm = pretty_midi.PrettyMIDI(sample_file)\n",
    "\n",
    "print('Number of instruments:', len(pm.instruments))\n",
    "instrument = pm.instruments[0]\n",
    "instrument_name = pretty_midi.program_to_instrument_name(instrument.program)\n",
    "print('Instrument name:', instrument_name)\n",
    "\n",
    "# Extracting the notes\n",
    "for i, note in enumerate(instrument.notes[:10]):\n",
    "    note_name = pretty_midi.note_number_to_name(note.pitch)\n",
    "    duration = note.end - note.start\n",
    "    print(f'{i}: pitch={note.pitch}, note_name={note_name}, duration={duration:.4f}')"
   ],
   "metadata": {
    "collapsed": false,
    "ExecuteTime": {
     "end_time": "2023-11-11T17:07:22.950041200Z",
     "start_time": "2023-11-11T17:07:22.768695100Z"
    }
   },
   "id": "96f6e5fdc8cd5bef"
  },
  {
   "cell_type": "code",
   "execution_count": 26,
   "outputs": [
    {
     "data": {
      "text/plain": "   pitch     start       end      step  duration\n0     43  1.032292  1.111458  0.000000  0.079167\n1     31  1.040625  1.106250  0.008333  0.065625\n2     44  1.142708  1.216667  0.102083  0.073958\n3     32  1.144792  1.217708  0.002083  0.072917\n4     46  1.208333  1.303125  0.063542  0.094792",
      "text/html": "<div>\n<style scoped>\n    .dataframe tbody tr th:only-of-type {\n        vertical-align: middle;\n    }\n\n    .dataframe tbody tr th {\n        vertical-align: top;\n    }\n\n    .dataframe thead th {\n        text-align: right;\n    }\n</style>\n<table border=\"1\" class=\"dataframe\">\n  <thead>\n    <tr style=\"text-align: right;\">\n      <th></th>\n      <th>pitch</th>\n      <th>start</th>\n      <th>end</th>\n      <th>step</th>\n      <th>duration</th>\n    </tr>\n  </thead>\n  <tbody>\n    <tr>\n      <th>0</th>\n      <td>43</td>\n      <td>1.032292</td>\n      <td>1.111458</td>\n      <td>0.000000</td>\n      <td>0.079167</td>\n    </tr>\n    <tr>\n      <th>1</th>\n      <td>31</td>\n      <td>1.040625</td>\n      <td>1.106250</td>\n      <td>0.008333</td>\n      <td>0.065625</td>\n    </tr>\n    <tr>\n      <th>2</th>\n      <td>44</td>\n      <td>1.142708</td>\n      <td>1.216667</td>\n      <td>0.102083</td>\n      <td>0.073958</td>\n    </tr>\n    <tr>\n      <th>3</th>\n      <td>32</td>\n      <td>1.144792</td>\n      <td>1.217708</td>\n      <td>0.002083</td>\n      <td>0.072917</td>\n    </tr>\n    <tr>\n      <th>4</th>\n      <td>46</td>\n      <td>1.208333</td>\n      <td>1.303125</td>\n      <td>0.063542</td>\n      <td>0.094792</td>\n    </tr>\n  </tbody>\n</table>\n</div>"
     },
     "execution_count": 26,
     "metadata": {},
     "output_type": "execute_result"
    }
   ],
   "source": [
    "# Extracting the notes from the sample MIDI file\n",
    "def midi_to_notes(midi_file: str) -> pd.DataFrame:\n",
    "    pm = pretty_midi.PrettyMIDI(midi_file)\n",
    "    instrument = pm.instruments[0]\n",
    "    notes = collections.defaultdict(list)\n",
    "\n",
    "    # Sort the notes by start time\n",
    "    sorted_notes = sorted(instrument.notes, key=lambda note: note.start)\n",
    "    prev_start = sorted_notes[0].start\n",
    "\n",
    "    for note in sorted_notes:\n",
    "        start = note.start\n",
    "        end = note.end\n",
    "        notes['pitch'].append(note.pitch)\n",
    "        notes['start'].append(start)\n",
    "        notes['end'].append(end)\n",
    "        notes['step'].append(start - prev_start)\n",
    "        notes['duration'].append(end - start)\n",
    "        prev_start = start\n",
    "\n",
    "    return pd.DataFrame({name: np.array(value) for name, value in notes.items()})\n",
    "\n",
    "raw_notes = midi_to_notes(sample_file)\n",
    "raw_notes.head()"
   ],
   "metadata": {
    "collapsed": false,
    "ExecuteTime": {
     "end_time": "2023-11-11T17:08:09.588926200Z",
     "start_time": "2023-11-11T17:08:09.320745200Z"
    }
   },
   "id": "837de926a02eb467"
  },
  {
   "cell_type": "code",
   "execution_count": 27,
   "outputs": [
    {
     "name": "stdout",
     "output_type": "stream",
     "text": [
      "['G2' 'G1' 'G#2' 'G#1' 'A#2' 'A#1' 'C3' 'C2' 'F3' 'D4']\n"
     ]
    }
   ],
   "source": [
    "get_note_names = np.vectorize(pretty_midi.note_number_to_name)\n",
    "sample_note_names = get_note_names(raw_notes['pitch'])\n",
    "print(sample_note_names[:10])\n",
    "\n",
    "# Visualizing the paramaters of the muscial notes of the piano\n",
    "\n",
    "def plot_piano_roll(notes: pd.DataFrame, count: Optional[int] = None):\n",
    "    if count:\n",
    "        title = f'First {count} notes'\n",
    "    else:\n",
    "        title = f'Whole track'\n",
    "        count = len(notes['pitch'])\n",
    "\n",
    "        plt.figure(figsize=(20, 4))\n",
    "        plot_pitch = np.stack([notes['pitch'], notes['pitch']], axis=0)\n",
    "        plot_start_stop = np.stack([notes['start'], notes['end']], axis=0)\n",
    "\n",
    "        plt.plot(plot_start_stop[:, :count], plot_pitch[:, :count], color=\"b\", marker=\".\")\n",
    "        plt.xlabel('Time [s]')\n",
    "        plt.ylabel('Pitch')\n",
    "        _ = plt.title(title)"
   ],
   "metadata": {
    "collapsed": false,
    "ExecuteTime": {
     "end_time": "2023-11-11T17:09:48.557326200Z",
     "start_time": "2023-11-11T17:09:48.533641500Z"
    }
   },
   "id": "b17818ff81dad6e7"
  },
  {
   "cell_type": "code",
   "execution_count": 29,
   "outputs": [],
   "source": [
    "def notes_to_midi(notes: pd.DataFrame, out_file: str, instrument_name: str,\n",
    "                  velocity: int = 100) -> pretty_midi.PrettyMIDI:\n",
    "\n",
    "    pm = pretty_midi.PrettyMIDI()\n",
    "    instrument = pretty_midi.Instrument(\n",
    "        program=pretty_midi.instrument_name_to_program(\n",
    "            instrument_name))\n",
    "\n",
    "    prev_start = 0\n",
    "    for i, note in notes.iterrows():\n",
    "        start = float(prev_start + note['step'])\n",
    "        end = float(start + note['duration'])\n",
    "\n",
    "        note = pretty_midi.Note(velocity=velocity, pitch=int(note['pitch']),\n",
    "                                start=start, end=end)\n",
    "        instrument.notes.append(note)\n",
    "        prev_start = start\n",
    "\n",
    "    pm.instruments.append(instrument)\n",
    "    pm.write(out_file)\n",
    "    return pm\n",
    "\n",
    "example_file = 'example.midi'\n",
    "example_pm = notes_to_midi(\n",
    "    raw_notes, out_file=example_file, instrument_name=instrument_name)"
   ],
   "metadata": {
    "collapsed": false,
    "ExecuteTime": {
     "end_time": "2023-11-11T17:10:47.493814400Z",
     "start_time": "2023-11-11T17:10:47.349149900Z"
    }
   },
   "id": "c7713e9a4fdd547f"
  },
  {
   "cell_type": "code",
   "execution_count": 30,
   "outputs": [
    {
     "name": "stdout",
     "output_type": "stream",
     "text": [
      "Number of notes parsed: 37241\n"
     ]
    },
    {
     "data": {
      "text/plain": "TensorSpec(shape=(3,), dtype=tf.float64, name=None)"
     },
     "execution_count": 30,
     "metadata": {},
     "output_type": "execute_result"
    }
   ],
   "source": [
    "num_files = 5\n",
    "all_notes = []\n",
    "for f in filenames[:num_files]:\n",
    "    notes = midi_to_notes(f)\n",
    "    all_notes.append(notes)\n",
    "\n",
    "all_notes = pd.concat(all_notes)\n",
    "\n",
    "n_notes = len(all_notes)\n",
    "print('Number of notes parsed:', n_notes)\n",
    "\n",
    "key_order = ['pitch', 'step', 'duration']\n",
    "train_notes = np.stack([all_notes[key] for key in key_order], axis=1)\n",
    "\n",
    "notes_ds = tf.data.Dataset.from_tensor_slices(train_notes)\n",
    "notes_ds.element_spec"
   ],
   "metadata": {
    "collapsed": false,
    "ExecuteTime": {
     "end_time": "2023-11-11T17:11:02.675035800Z",
     "start_time": "2023-11-11T17:10:57.418189300Z"
    }
   },
   "id": "91e28e7ac61965cb"
  },
  {
   "cell_type": "code",
   "execution_count": 31,
   "outputs": [],
   "source": [
    "def create_sequences(dataset: tf.data.Dataset, seq_length: int,\n",
    "                     vocab_size = 128) -> tf.data.Dataset:\n",
    "    \"\"\"Returns TF Dataset of sequence and label examples.\"\"\"\n",
    "    seq_length = seq_length+1\n",
    "\n",
    "    # Take 1 extra for the labels\n",
    "    windows = dataset.window(seq_length, shift=1, stride=1,\n",
    "                             drop_remainder=True)\n",
    "\n",
    "    # `flat_map` flattens the\" dataset of datasets\" into a dataset of tensors\n",
    "    flatten = lambda x: x.batch(seq_length, drop_remainder=True)\n",
    "    sequences = windows.flat_map(flatten)\n",
    "\n",
    "    # Normalize note pitch\n",
    "    def scale_pitch(x):\n",
    "        x = x/[vocab_size,1.0,1.0]\n",
    "        return x\n",
    "\n",
    "    # Split the labels\n",
    "    def split_labels(sequences):\n",
    "        inputs = sequences[:-1]\n",
    "        labels_dense = sequences[-1]\n",
    "        labels = {key:labels_dense[i] for i,key in enumerate(key_order)}\n",
    "\n",
    "        return scale_pitch(inputs), labels\n",
    "\n",
    "    return sequences.map(split_labels, num_parallel_calls=tf.data.AUTOTUNE)\n",
    "\n",
    "seq_length = 25\n",
    "vocab_size = 128\n",
    "seq_ds = create_sequences(notes_ds, seq_length, vocab_size)"
   ],
   "metadata": {
    "collapsed": false,
    "ExecuteTime": {
     "end_time": "2023-11-11T17:11:23.741417600Z",
     "start_time": "2023-11-11T17:11:23.497914500Z"
    }
   },
   "id": "f40f1d81e85f81ac"
  },
  {
   "cell_type": "code",
   "execution_count": 32,
   "outputs": [],
   "source": [
    "batch_size = 64\n",
    "buffer_size = n_notes - seq_length  # the number of items in the dataset\n",
    "train_ds = (seq_ds\n",
    "            .shuffle(buffer_size)\n",
    "            .batch(batch_size, drop_remainder=True)\n",
    "            .cache()\n",
    "            .prefetch(tf.data.experimental.AUTOTUNE))"
   ],
   "metadata": {
    "collapsed": false,
    "ExecuteTime": {
     "end_time": "2023-11-11T17:11:32.048299400Z",
     "start_time": "2023-11-11T17:11:32.003546Z"
    }
   },
   "id": "faa5dc3cee501eb9"
  },
  {
   "cell_type": "code",
   "execution_count": 33,
   "outputs": [],
   "source": [
    "def mse_with_positive_pressure(y_true: tf.Tensor, y_pred: tf.Tensor):\n",
    "    mse = (y_true - y_pred) ** 2\n",
    "    positive_pressure = 10 * tf.maximum(-y_pred, 0.0)\n",
    "    return tf.reduce_mean(mse + positive_pressure)"
   ],
   "metadata": {
    "collapsed": false,
    "ExecuteTime": {
     "end_time": "2023-11-11T17:11:41.116931500Z",
     "start_time": "2023-11-11T17:11:41.087725600Z"
    }
   },
   "id": "d1b2954ff745ce0b"
  },
  {
   "cell_type": "code",
   "execution_count": 34,
   "outputs": [
    {
     "name": "stdout",
     "output_type": "stream",
     "text": [
      "Model: \"model\"\n",
      "__________________________________________________________________________________________________\n",
      " Layer (type)                Output Shape                 Param #   Connected to                  \n",
      "==================================================================================================\n",
      " input_1 (InputLayer)        [(None, 25, 3)]              0         []                            \n",
      "                                                                                                  \n",
      " lstm (LSTM)                 (None, 128)                  67584     ['input_1[0][0]']             \n",
      "                                                                                                  \n",
      " duration (Dense)            (None, 1)                    129       ['lstm[0][0]']                \n",
      "                                                                                                  \n",
      " pitch (Dense)               (None, 128)                  16512     ['lstm[0][0]']                \n",
      "                                                                                                  \n",
      " step (Dense)                (None, 1)                    129       ['lstm[0][0]']                \n",
      "                                                                                                  \n",
      "==================================================================================================\n",
      "Total params: 84354 (329.51 KB)\n",
      "Trainable params: 84354 (329.51 KB)\n",
      "Non-trainable params: 0 (0.00 Byte)\n",
      "__________________________________________________________________________________________________\n"
     ]
    }
   ],
   "source": [
    "# Developing the model\n",
    "input_shape = (seq_length, 3)\n",
    "learning_rate = 0.005\n",
    "\n",
    "inputs = Input(input_shape)\n",
    "x = LSTM(128)(inputs)\n",
    "\n",
    "outputs = {'pitch': Dense(128, name='pitch')(x),\n",
    "           'step': Dense(1, name='step')(x),\n",
    "           'duration': Dense(1, name='duration')(x),\n",
    "           }\n",
    "\n",
    "model = Model(inputs, outputs)\n",
    "\n",
    "loss = {'pitch': SparseCategoricalCrossentropy(from_logits=True),\n",
    "        'step': mse_with_positive_pressure,\n",
    "        'duration': mse_with_positive_pressure,\n",
    "        }\n",
    "\n",
    "optimizer = Adam(learning_rate=learning_rate)\n",
    "\n",
    "model.compile(loss=loss, optimizer=optimizer)\n",
    "\n",
    "model.summary()"
   ],
   "metadata": {
    "collapsed": false,
    "ExecuteTime": {
     "end_time": "2023-11-11T17:12:05.249372500Z",
     "start_time": "2023-11-11T17:12:04.398185900Z"
    }
   },
   "id": "83e1aac3a665742d"
  },
  {
   "cell_type": "code",
   "execution_count": 35,
   "outputs": [],
   "source": [
    "# Creating the necessary callbacks\n",
    "callbacks = [tf.keras.callbacks.ModelCheckpoint(filepath='./training_checkpoints/ckpt_{epoch}', save_weights_only=True),\n",
    "             tf.keras.callbacks.EarlyStopping(monitor='loss', patience=5,\n",
    "                                              verbose=1, restore_best_weights=True),]"
   ],
   "metadata": {
    "collapsed": false,
    "ExecuteTime": {
     "end_time": "2023-11-11T17:12:41.583182400Z",
     "start_time": "2023-11-11T17:12:41.559780500Z"
    }
   },
   "id": "d7d0d2c6d0469ee2"
  },
  {
   "cell_type": "code",
   "execution_count": 36,
   "outputs": [
    {
     "name": "stdout",
     "output_type": "stream",
     "text": [
      "Epoch 1/50\n",
      "581/581 [==============================] - 18s 18ms/step - loss: 0.3209 - duration_loss: 0.0841 - pitch_loss: 4.0010 - step_loss: 0.0367\n",
      "Epoch 2/50\n",
      "581/581 [==============================] - 12s 20ms/step - loss: 0.3115 - duration_loss: 0.0824 - pitch_loss: 3.9047 - step_loss: 0.0339\n",
      "Epoch 3/50\n",
      "581/581 [==============================] - 11s 20ms/step - loss: 0.3085 - duration_loss: 0.0818 - pitch_loss: 3.8668 - step_loss: 0.0333\n",
      "Epoch 4/50\n",
      "581/581 [==============================] - 11s 19ms/step - loss: 0.3064 - duration_loss: 0.0810 - pitch_loss: 3.8469 - step_loss: 0.0330\n",
      "Epoch 5/50\n",
      "581/581 [==============================] - 11s 19ms/step - loss: 0.3042 - duration_loss: 0.0807 - pitch_loss: 3.8227 - step_loss: 0.0324\n",
      "Epoch 6/50\n",
      "581/581 [==============================] - 11s 19ms/step - loss: 0.3028 - duration_loss: 0.0801 - pitch_loss: 3.8132 - step_loss: 0.0320\n",
      "Epoch 7/50\n",
      "581/581 [==============================] - 11s 19ms/step - loss: 0.3008 - duration_loss: 0.0791 - pitch_loss: 3.8029 - step_loss: 0.0315\n",
      "Epoch 8/50\n",
      "581/581 [==============================] - 11s 18ms/step - loss: 0.2996 - duration_loss: 0.0782 - pitch_loss: 3.8047 - step_loss: 0.0312\n",
      "Epoch 9/50\n",
      "581/581 [==============================] - 11s 19ms/step - loss: 0.2993 - duration_loss: 0.0776 - pitch_loss: 3.7911 - step_loss: 0.0321\n",
      "Epoch 10/50\n",
      "581/581 [==============================] - 11s 18ms/step - loss: 0.2970 - duration_loss: 0.0764 - pitch_loss: 3.7855 - step_loss: 0.0313\n",
      "Epoch 11/50\n",
      "581/581 [==============================] - 10s 18ms/step - loss: 0.2952 - duration_loss: 0.0754 - pitch_loss: 3.7729 - step_loss: 0.0312\n",
      "Epoch 12/50\n",
      "581/581 [==============================] - 11s 19ms/step - loss: 0.2926 - duration_loss: 0.0740 - pitch_loss: 3.7677 - step_loss: 0.0302\n",
      "Epoch 13/50\n",
      "581/581 [==============================] - 11s 18ms/step - loss: 0.2912 - duration_loss: 0.0747 - pitch_loss: 3.7698 - step_loss: 0.0280\n",
      "Epoch 14/50\n",
      "581/581 [==============================] - 11s 19ms/step - loss: 0.2921 - duration_loss: 0.0726 - pitch_loss: 3.7596 - step_loss: 0.0315\n",
      "Epoch 15/50\n",
      "581/581 [==============================] - 11s 18ms/step - loss: 0.2884 - duration_loss: 0.0706 - pitch_loss: 3.7473 - step_loss: 0.0305\n",
      "Epoch 16/50\n",
      "581/581 [==============================] - 11s 19ms/step - loss: 0.2887 - duration_loss: 0.0702 - pitch_loss: 3.7556 - step_loss: 0.0308\n",
      "Epoch 17/50\n",
      "581/581 [==============================] - 11s 18ms/step - loss: 0.2862 - duration_loss: 0.0691 - pitch_loss: 3.7388 - step_loss: 0.0302\n",
      "Epoch 18/50\n",
      "581/581 [==============================] - 11s 19ms/step - loss: 0.2813 - duration_loss: 0.0669 - pitch_loss: 3.7295 - step_loss: 0.0280\n",
      "Epoch 19/50\n",
      "581/581 [==============================] - 11s 19ms/step - loss: 0.2796 - duration_loss: 0.0666 - pitch_loss: 3.7298 - step_loss: 0.0265\n",
      "Epoch 20/50\n",
      "581/581 [==============================] - 11s 19ms/step - loss: 0.2784 - duration_loss: 0.0672 - pitch_loss: 3.7258 - step_loss: 0.0249\n",
      "Epoch 21/50\n",
      "581/581 [==============================] - 10s 18ms/step - loss: 0.2721 - duration_loss: 0.0654 - pitch_loss: 3.7183 - step_loss: 0.0208\n",
      "Epoch 22/50\n",
      "581/581 [==============================] - 11s 20ms/step - loss: 0.2691 - duration_loss: 0.0626 - pitch_loss: 3.7064 - step_loss: 0.0212\n",
      "Epoch 23/50\n",
      "581/581 [==============================] - 11s 19ms/step - loss: 0.2734 - duration_loss: 0.0629 - pitch_loss: 3.7074 - step_loss: 0.0252\n",
      "Epoch 24/50\n",
      "581/581 [==============================] - 11s 18ms/step - loss: 0.2687 - duration_loss: 0.0617 - pitch_loss: 3.7026 - step_loss: 0.0218\n",
      "Epoch 25/50\n",
      "581/581 [==============================] - 11s 19ms/step - loss: 0.2700 - duration_loss: 0.0609 - pitch_loss: 3.6784 - step_loss: 0.0252\n",
      "Epoch 26/50\n",
      "581/581 [==============================] - 11s 19ms/step - loss: 0.2623 - duration_loss: 0.0611 - pitch_loss: 3.6627 - step_loss: 0.0181\n",
      "Epoch 27/50\n",
      "581/581 [==============================] - 11s 18ms/step - loss: 0.2608 - duration_loss: 0.0598 - pitch_loss: 3.6522 - step_loss: 0.0184\n",
      "Epoch 28/50\n",
      "581/581 [==============================] - 11s 19ms/step - loss: 0.2564 - duration_loss: 0.0573 - pitch_loss: 3.6406 - step_loss: 0.0171\n",
      "Epoch 29/50\n",
      "581/581 [==============================] - 11s 18ms/step - loss: 0.2550 - duration_loss: 0.0567 - pitch_loss: 3.6303 - step_loss: 0.0168\n",
      "Epoch 30/50\n",
      "581/581 [==============================] - 11s 19ms/step - loss: 0.2543 - duration_loss: 0.0564 - pitch_loss: 3.6233 - step_loss: 0.0167\n",
      "Epoch 31/50\n",
      "581/581 [==============================] - 11s 19ms/step - loss: 0.2577 - duration_loss: 0.0581 - pitch_loss: 3.6279 - step_loss: 0.0183\n",
      "Epoch 32/50\n",
      "581/581 [==============================] - 11s 19ms/step - loss: 0.2573 - duration_loss: 0.0572 - pitch_loss: 3.6288 - step_loss: 0.0186\n",
      "Epoch 33/50\n",
      "581/581 [==============================] - 11s 19ms/step - loss: 0.2530 - duration_loss: 0.0556 - pitch_loss: 3.6023 - step_loss: 0.0173\n",
      "Epoch 34/50\n",
      "581/581 [==============================] - 11s 19ms/step - loss: 0.2488 - duration_loss: 0.0532 - pitch_loss: 3.5954 - step_loss: 0.0159\n",
      "Epoch 35/50\n",
      "581/581 [==============================] - 11s 18ms/step - loss: 0.2467 - duration_loss: 0.0516 - pitch_loss: 3.5906 - step_loss: 0.0156\n",
      "Epoch 36/50\n",
      "581/581 [==============================] - 11s 19ms/step - loss: 0.2500 - duration_loss: 0.0542 - pitch_loss: 3.5872 - step_loss: 0.0165\n",
      "Epoch 37/50\n",
      "581/581 [==============================] - 11s 18ms/step - loss: 0.2474 - duration_loss: 0.0528 - pitch_loss: 3.5810 - step_loss: 0.0156\n",
      "Epoch 38/50\n",
      "581/581 [==============================] - 12s 20ms/step - loss: 0.2483 - duration_loss: 0.0538 - pitch_loss: 3.5762 - step_loss: 0.0157\n",
      "Epoch 39/50\n",
      "581/581 [==============================] - 11s 18ms/step - loss: 0.2409 - duration_loss: 0.0490 - pitch_loss: 3.5505 - step_loss: 0.0143\n",
      "Epoch 40/50\n",
      "581/581 [==============================] - 11s 20ms/step - loss: 0.2380 - duration_loss: 0.0461 - pitch_loss: 3.5484 - step_loss: 0.0144\n",
      "Epoch 41/50\n",
      "581/581 [==============================] - 11s 19ms/step - loss: 0.2346 - duration_loss: 0.0438 - pitch_loss: 3.5362 - step_loss: 0.0140\n",
      "Epoch 42/50\n",
      "581/581 [==============================] - 11s 18ms/step - loss: 0.2434 - duration_loss: 0.0499 - pitch_loss: 3.5705 - step_loss: 0.0150\n",
      "Epoch 43/50\n",
      "581/581 [==============================] - 12s 20ms/step - loss: 0.2410 - duration_loss: 0.0492 - pitch_loss: 3.5500 - step_loss: 0.0144\n",
      "Epoch 44/50\n",
      "581/581 [==============================] - 11s 19ms/step - loss: 0.2354 - duration_loss: 0.0447 - pitch_loss: 3.5383 - step_loss: 0.0138\n",
      "Epoch 45/50\n",
      "581/581 [==============================] - 11s 19ms/step - loss: 0.2311 - duration_loss: 0.0422 - pitch_loss: 3.5209 - step_loss: 0.0129\n",
      "Epoch 46/50\n",
      "581/581 [==============================] - 11s 19ms/step - loss: 0.2336 - duration_loss: 0.0432 - pitch_loss: 3.5416 - step_loss: 0.0133\n",
      "Epoch 47/50\n",
      "581/581 [==============================] - 11s 19ms/step - loss: 0.2286 - duration_loss: 0.0401 - pitch_loss: 3.5146 - step_loss: 0.0127\n",
      "Epoch 48/50\n",
      "581/581 [==============================] - 11s 19ms/step - loss: 0.2278 - duration_loss: 0.0396 - pitch_loss: 3.5188 - step_loss: 0.0123\n",
      "Epoch 49/50\n",
      "581/581 [==============================] - 11s 18ms/step - loss: 0.2252 - duration_loss: 0.0384 - pitch_loss: 3.5012 - step_loss: 0.0118\n",
      "Epoch 50/50\n",
      "581/581 [==============================] - 11s 19ms/step - loss: 0.2245 - duration_loss: 0.0379 - pitch_loss: 3.4963 - step_loss: 0.0117\n"
     ]
    }
   ],
   "source": [
    "# Compiling and fitting the model\n",
    "model.compile(loss = loss,\n",
    "              loss_weights = {'pitch': 0.05, 'step': 1.0, 'duration':1.0,},\n",
    "              optimizer = optimizer)\n",
    "\n",
    "epochs = 50\n",
    "\n",
    "history = model.fit(train_ds,\n",
    "                    epochs=epochs,\n",
    "                    callbacks=callbacks,)"
   ],
   "metadata": {
    "collapsed": false,
    "ExecuteTime": {
     "end_time": "2023-11-11T17:22:09.826972100Z",
     "start_time": "2023-11-11T17:12:54.754661100Z"
    }
   },
   "id": "a165e80b4aba7be2"
  },
  {
   "cell_type": "code",
   "execution_count": 37,
   "outputs": [],
   "source": [
    "def predict_next_note(notes: np.ndarray, keras_model: tf.keras.Model,\n",
    "                      temperature: float = 1.0) -> int:\n",
    "    \"\"\"Generates a note IDs using a trained sequence model.\"\"\"\n",
    "\n",
    "    assert temperature > 0\n",
    "\n",
    "    # Add batch dimension\n",
    "    inputs = tf.expand_dims(notes, 0)\n",
    "\n",
    "    predictions = model.predict(inputs)\n",
    "    pitch_logits = predictions['pitch']\n",
    "    step = predictions['step']\n",
    "    duration = predictions['duration']\n",
    "\n",
    "    pitch_logits /= temperature\n",
    "    pitch = tf.random.categorical(pitch_logits, num_samples=1)\n",
    "    pitch = tf.squeeze(pitch, axis=-1)\n",
    "    duration = tf.squeeze(duration, axis=-1)\n",
    "    step = tf.squeeze(step, axis=-1)\n",
    "\n",
    "    # `step` and `duration` values should be non-negative\n",
    "    step = tf.maximum(0, step)\n",
    "    duration = tf.maximum(0, duration)\n",
    "\n",
    "    return int(pitch), float(step), float(duration)"
   ],
   "metadata": {
    "collapsed": false,
    "ExecuteTime": {
     "end_time": "2023-11-11T17:22:46.837484Z",
     "start_time": "2023-11-11T17:22:46.797360Z"
    }
   },
   "id": "af538a2297a83c72"
  },
  {
   "cell_type": "code",
   "execution_count": 38,
   "outputs": [
    {
     "name": "stdout",
     "output_type": "stream",
     "text": [
      "1/1 [==============================] - 1s 1s/step\n",
      "1/1 [==============================] - 0s 42ms/step\n",
      "1/1 [==============================] - 0s 32ms/step\n",
      "1/1 [==============================] - 0s 29ms/step\n",
      "1/1 [==============================] - 0s 35ms/step\n",
      "1/1 [==============================] - 0s 15ms/step\n",
      "1/1 [==============================] - 0s 27ms/step\n",
      "1/1 [==============================] - 0s 24ms/step\n",
      "1/1 [==============================] - 0s 26ms/step\n",
      "1/1 [==============================] - 0s 29ms/step\n",
      "1/1 [==============================] - 0s 24ms/step\n",
      "1/1 [==============================] - 0s 24ms/step\n",
      "1/1 [==============================] - 0s 24ms/step\n",
      "1/1 [==============================] - 0s 22ms/step\n",
      "1/1 [==============================] - 0s 30ms/step\n",
      "1/1 [==============================] - 0s 26ms/step\n",
      "1/1 [==============================] - 0s 24ms/step\n",
      "1/1 [==============================] - 0s 23ms/step\n",
      "1/1 [==============================] - 0s 22ms/step\n",
      "1/1 [==============================] - 0s 23ms/step\n",
      "1/1 [==============================] - 0s 23ms/step\n",
      "1/1 [==============================] - 0s 21ms/step\n",
      "1/1 [==============================] - 0s 20ms/step\n",
      "1/1 [==============================] - 0s 20ms/step\n",
      "1/1 [==============================] - 0s 24ms/step\n",
      "1/1 [==============================] - 0s 27ms/step\n",
      "1/1 [==============================] - 0s 25ms/step\n",
      "1/1 [==============================] - 0s 22ms/step\n",
      "1/1 [==============================] - 0s 37ms/step\n",
      "1/1 [==============================] - 0s 23ms/step\n",
      "1/1 [==============================] - 0s 20ms/step\n",
      "1/1 [==============================] - 0s 24ms/step\n",
      "1/1 [==============================] - 0s 23ms/step\n",
      "1/1 [==============================] - 0s 28ms/step\n",
      "1/1 [==============================] - 0s 24ms/step\n",
      "1/1 [==============================] - 0s 28ms/step\n",
      "1/1 [==============================] - 0s 21ms/step\n",
      "1/1 [==============================] - 0s 23ms/step\n",
      "1/1 [==============================] - 0s 22ms/step\n",
      "1/1 [==============================] - 0s 22ms/step\n",
      "1/1 [==============================] - 0s 28ms/step\n",
      "1/1 [==============================] - 0s 26ms/step\n",
      "1/1 [==============================] - 0s 21ms/step\n",
      "1/1 [==============================] - 0s 22ms/step\n",
      "1/1 [==============================] - 0s 20ms/step\n",
      "1/1 [==============================] - 0s 26ms/step\n",
      "1/1 [==============================] - 0s 23ms/step\n",
      "1/1 [==============================] - 0s 26ms/step\n",
      "1/1 [==============================] - 0s 28ms/step\n",
      "1/1 [==============================] - 0s 20ms/step\n",
      "1/1 [==============================] - 0s 17ms/step\n",
      "1/1 [==============================] - 0s 21ms/step\n",
      "1/1 [==============================] - 0s 21ms/step\n",
      "1/1 [==============================] - 0s 21ms/step\n",
      "1/1 [==============================] - 0s 22ms/step\n",
      "1/1 [==============================] - 0s 31ms/step\n",
      "1/1 [==============================] - 0s 20ms/step\n",
      "1/1 [==============================] - 0s 20ms/step\n",
      "1/1 [==============================] - 0s 24ms/step\n",
      "1/1 [==============================] - 0s 27ms/step\n",
      "1/1 [==============================] - 0s 26ms/step\n",
      "1/1 [==============================] - 0s 21ms/step\n",
      "1/1 [==============================] - 0s 21ms/step\n",
      "1/1 [==============================] - 0s 24ms/step\n",
      "1/1 [==============================] - 0s 27ms/step\n",
      "1/1 [==============================] - 0s 24ms/step\n",
      "1/1 [==============================] - 0s 20ms/step\n",
      "1/1 [==============================] - 0s 21ms/step\n",
      "1/1 [==============================] - 0s 22ms/step\n",
      "1/1 [==============================] - 0s 26ms/step\n",
      "1/1 [==============================] - 0s 23ms/step\n",
      "1/1 [==============================] - 0s 27ms/step\n",
      "1/1 [==============================] - 0s 21ms/step\n",
      "1/1 [==============================] - 0s 24ms/step\n",
      "1/1 [==============================] - 0s 22ms/step\n",
      "1/1 [==============================] - 0s 24ms/step\n",
      "1/1 [==============================] - 0s 24ms/step\n",
      "1/1 [==============================] - 0s 23ms/step\n",
      "1/1 [==============================] - 0s 23ms/step\n",
      "1/1 [==============================] - 0s 25ms/step\n",
      "1/1 [==============================] - 0s 22ms/step\n",
      "1/1 [==============================] - 0s 26ms/step\n",
      "1/1 [==============================] - 0s 30ms/step\n",
      "1/1 [==============================] - 0s 26ms/step\n",
      "1/1 [==============================] - 0s 24ms/step\n",
      "1/1 [==============================] - 0s 28ms/step\n",
      "1/1 [==============================] - 0s 25ms/step\n",
      "1/1 [==============================] - 0s 26ms/step\n",
      "1/1 [==============================] - 0s 24ms/step\n",
      "1/1 [==============================] - 0s 22ms/step\n",
      "1/1 [==============================] - 0s 23ms/step\n",
      "1/1 [==============================] - 0s 20ms/step\n",
      "1/1 [==============================] - 0s 20ms/step\n",
      "1/1 [==============================] - 0s 21ms/step\n",
      "1/1 [==============================] - 0s 22ms/step\n",
      "1/1 [==============================] - 0s 22ms/step\n",
      "1/1 [==============================] - 0s 29ms/step\n",
      "1/1 [==============================] - 0s 23ms/step\n",
      "1/1 [==============================] - 0s 26ms/step\n",
      "1/1 [==============================] - 0s 26ms/step\n",
      "1/1 [==============================] - 0s 27ms/step\n",
      "1/1 [==============================] - 0s 21ms/step\n",
      "1/1 [==============================] - 0s 24ms/step\n",
      "1/1 [==============================] - 0s 23ms/step\n",
      "1/1 [==============================] - 0s 24ms/step\n",
      "1/1 [==============================] - 0s 22ms/step\n",
      "1/1 [==============================] - 0s 24ms/step\n",
      "1/1 [==============================] - 0s 31ms/step\n",
      "1/1 [==============================] - 0s 24ms/step\n",
      "1/1 [==============================] - 0s 25ms/step\n",
      "1/1 [==============================] - 0s 21ms/step\n",
      "1/1 [==============================] - 0s 22ms/step\n",
      "1/1 [==============================] - 0s 22ms/step\n",
      "1/1 [==============================] - 0s 20ms/step\n",
      "1/1 [==============================] - 0s 20ms/step\n",
      "1/1 [==============================] - 0s 25ms/step\n",
      "1/1 [==============================] - 0s 23ms/step\n",
      "1/1 [==============================] - 0s 22ms/step\n",
      "1/1 [==============================] - 0s 25ms/step\n",
      "1/1 [==============================] - 0s 24ms/step\n"
     ]
    },
    {
     "data": {
      "text/plain": "   pitch      step  duration     start       end\n0     24  2.537930  0.000000  2.537930  2.537930\n1     95  0.000000  0.448547  2.537930  2.986477\n2     95  0.580557  0.531717  3.118487  3.650203\n3     95  0.573193  0.538335  3.691680  4.230014\n4     95  0.574423  0.542140  4.266102  4.808242\n5     95  0.578838  0.543829  4.844940  5.388770\n6     95  0.590335  0.565292  5.435276  6.000568\n7     95  0.589041  0.566202  6.024316  6.590519\n8     95  0.591448  0.576069  6.615765  7.191834\n9     95  0.587828  0.524005  7.203592  7.727597",
      "text/html": "<div>\n<style scoped>\n    .dataframe tbody tr th:only-of-type {\n        vertical-align: middle;\n    }\n\n    .dataframe tbody tr th {\n        vertical-align: top;\n    }\n\n    .dataframe thead th {\n        text-align: right;\n    }\n</style>\n<table border=\"1\" class=\"dataframe\">\n  <thead>\n    <tr style=\"text-align: right;\">\n      <th></th>\n      <th>pitch</th>\n      <th>step</th>\n      <th>duration</th>\n      <th>start</th>\n      <th>end</th>\n    </tr>\n  </thead>\n  <tbody>\n    <tr>\n      <th>0</th>\n      <td>24</td>\n      <td>2.537930</td>\n      <td>0.000000</td>\n      <td>2.537930</td>\n      <td>2.537930</td>\n    </tr>\n    <tr>\n      <th>1</th>\n      <td>95</td>\n      <td>0.000000</td>\n      <td>0.448547</td>\n      <td>2.537930</td>\n      <td>2.986477</td>\n    </tr>\n    <tr>\n      <th>2</th>\n      <td>95</td>\n      <td>0.580557</td>\n      <td>0.531717</td>\n      <td>3.118487</td>\n      <td>3.650203</td>\n    </tr>\n    <tr>\n      <th>3</th>\n      <td>95</td>\n      <td>0.573193</td>\n      <td>0.538335</td>\n      <td>3.691680</td>\n      <td>4.230014</td>\n    </tr>\n    <tr>\n      <th>4</th>\n      <td>95</td>\n      <td>0.574423</td>\n      <td>0.542140</td>\n      <td>4.266102</td>\n      <td>4.808242</td>\n    </tr>\n    <tr>\n      <th>5</th>\n      <td>95</td>\n      <td>0.578838</td>\n      <td>0.543829</td>\n      <td>4.844940</td>\n      <td>5.388770</td>\n    </tr>\n    <tr>\n      <th>6</th>\n      <td>95</td>\n      <td>0.590335</td>\n      <td>0.565292</td>\n      <td>5.435276</td>\n      <td>6.000568</td>\n    </tr>\n    <tr>\n      <th>7</th>\n      <td>95</td>\n      <td>0.589041</td>\n      <td>0.566202</td>\n      <td>6.024316</td>\n      <td>6.590519</td>\n    </tr>\n    <tr>\n      <th>8</th>\n      <td>95</td>\n      <td>0.591448</td>\n      <td>0.576069</td>\n      <td>6.615765</td>\n      <td>7.191834</td>\n    </tr>\n    <tr>\n      <th>9</th>\n      <td>95</td>\n      <td>0.587828</td>\n      <td>0.524005</td>\n      <td>7.203592</td>\n      <td>7.727597</td>\n    </tr>\n  </tbody>\n</table>\n</div>"
     },
     "execution_count": 38,
     "metadata": {},
     "output_type": "execute_result"
    }
   ],
   "source": [
    "temperature = 2.0\n",
    "num_predictions = 120\n",
    "\n",
    "sample_notes = np.stack([raw_notes[key] for key in key_order], axis=1)\n",
    "\n",
    "# The initial sequence of notes while the pitch is normalized similar to training sequences\n",
    "input_notes = (\n",
    "        sample_notes[:seq_length] / np.array([vocab_size, 1, 1]))\n",
    "\n",
    "generated_notes = []\n",
    "prev_start = 0\n",
    "\n",
    "for _ in range(num_predictions):\n",
    "    pitch, step, duration = predict_next_note(input_notes, model, temperature)\n",
    "    start = prev_start + step\n",
    "    end = start + duration\n",
    "    input_note = (pitch, step, duration)\n",
    "    generated_notes.append((*input_note, start, end))\n",
    "    input_notes = np.delete(input_notes, 0, axis=0)\n",
    "    input_notes = np.append(input_notes, np.expand_dims(input_note, 0), axis=0)\n",
    "    prev_start = start\n",
    "\n",
    "generated_notes = pd.DataFrame(\n",
    "    generated_notes, columns=(*key_order, 'start', 'end'))\n",
    "\n",
    "generated_notes.head(10)"
   ],
   "metadata": {
    "collapsed": false,
    "ExecuteTime": {
     "end_time": "2023-11-11T17:23:24.724846800Z",
     "start_time": "2023-11-11T17:23:14.546244800Z"
    }
   },
   "id": "f2ebc1df9a29de7b"
  },
  {
   "cell_type": "code",
   "execution_count": 41,
   "outputs": [],
   "source": [
    "out_file = 'output.midi'\n",
    "out_pm = notes_to_midi(\n",
    "    generated_notes, out_file=out_file, instrument_name=instrument_name)"
   ],
   "metadata": {
    "collapsed": false,
    "ExecuteTime": {
     "end_time": "2023-11-11T17:26:59.839314Z",
     "start_time": "2023-11-11T17:26:59.810365300Z"
    }
   },
   "id": "b14d4abc15854394"
  },
  {
   "cell_type": "code",
   "execution_count": null,
   "outputs": [],
   "source": [],
   "metadata": {
    "collapsed": false
   },
   "id": "dc32c5e3023c295e"
  }
 ],
 "metadata": {
  "kernelspec": {
   "display_name": "Python 3",
   "language": "python",
   "name": "python3"
  },
  "language_info": {
   "codemirror_mode": {
    "name": "ipython",
    "version": 2
   },
   "file_extension": ".py",
   "mimetype": "text/x-python",
   "name": "python",
   "nbconvert_exporter": "python",
   "pygments_lexer": "ipython2",
   "version": "2.7.6"
  }
 },
 "nbformat": 4,
 "nbformat_minor": 5
}
